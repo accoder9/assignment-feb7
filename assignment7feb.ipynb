{
 "cells": [
  {
   "cell_type": "markdown",
   "id": "d0315cd3-1415-4bad-b626-be5341da5cf2",
   "metadata": {},
   "source": [
    "Q1. You are writing code for a company. The requirement of the company is that you create a python\n",
    "function that will check whether the password entered by the user is correct or not. The function should\n",
    "take the password as input and return the string “Valid Password” if the entered password follows the\n",
    "below-given password guidelines else it should return “Invalid Password”.\n",
    "Note: 1. The Password should contain at least two uppercase letters and at least two lowercase letters.\n",
    "2. The Password should contain at least a number and three special characters.\n",
    "3. The length of the password should be 10 characters long."
   ]
  },
  {
   "cell_type": "code",
   "execution_count": 8,
   "id": "6838fca1-4faa-474e-bfca-afdf6227625a",
   "metadata": {},
   "outputs": [
    {
     "name": "stdin",
     "output_type": "stream",
     "text": [
      "enter R@m@0u9e$Q\n"
     ]
    },
    {
     "name": "stdout",
     "output_type": "stream",
     "text": [
      "Valid Password\n"
     ]
    }
   ],
   "source": [
    "a=input('enter')\n",
    "if len(a)==10:\n",
    "    b=[]\n",
    "    c=[]\n",
    "    d=[]\n",
    "    e=[]\n",
    "    capitalalphabets=\"ABCDEFGHIJKLMNOPQRSTUVWXYZ\"\n",
    "    smallalphabets=\"abcdefghijklmnopqrstuvwxyz\"\n",
    "    specialchar=\"$@_\"\n",
    "    digits=\"0123456789\"\n",
    "    for i in a :\n",
    "        if i in capitalalphabets :\n",
    "            b.append(i)\n",
    "        elif i in smallalphabets :\n",
    "            c.append(i)\n",
    "        elif i in digits:\n",
    "            d.append(i)\n",
    "        elif i in specialchar:\n",
    "            e.append(i)\n",
    "            \n",
    "    \n",
    "    if (len(b)>=2 and len(c)>=2 and len(d)>=1 and len(e)>=1):\n",
    "        print (\"Valid Password\")\n",
    "        \n",
    "else:\n",
    "    print(\"Invalid Password\")\n",
    "        \n",
    "    "
   ]
  },
  {
   "cell_type": "markdown",
   "id": "0f81a74c-e093-43cc-add9-0faeb66dbc8c",
   "metadata": {},
   "source": [
    "Q2. Solve the below-given questions using at least one of the following:\n",
    "1. Lambda functioJ\n",
    "2. Filter functioJ\n",
    "3. Zap functioJ\n",
    "4. List ComprehensioI\n",
    "B Check if the string starts with a particular letterY\n",
    "B Check if the string is numericY\n",
    "B Sort a list of tuples having fruit names and their quantity. [(\"mango\",99),(\"orange\",80), (\"grapes\", 1000)-\n",
    "B Find the squares of numbers from 1 to 10Y\n",
    "B Find the cube root of numbers from 1 to 10Y\n",
    "B Check if a given number is evenY\n",
    "B Filter odd numbers from the given list.\n",
    "[1,2,3,4,5,6,7,8,9,10-\n",
    "B Sort a list of integers into positive and negative integers lists.\n",
    "[1,2,3,4,5,6,-1,-2,-3,-4,-5,0]"
   ]
  },
  {
   "cell_type": "markdown",
   "id": "27ce3c09-3663-42fa-b3ec-49e90a83e844",
   "metadata": {},
   "source": [
    "Check if the string starts with a particular letter"
   ]
  },
  {
   "cell_type": "code",
   "execution_count": 35,
   "id": "0645f7fc-b3c3-42a2-b0af-2cd98dea9e5c",
   "metadata": {},
   "outputs": [
    {
     "name": "stdout",
     "output_type": "stream",
     "text": [
      "False\n"
     ]
    }
   ],
   "source": [
    "a=\"String\"\n",
    "b=lambda x:True if x.startswith(\"P\") else False\n",
    "print(b(a))"
   ]
  },
  {
   "cell_type": "markdown",
   "id": "fedd6498-4c69-4ec8-a485-c19d84d0c767",
   "metadata": {},
   "source": [
    "Check if the string is numeric"
   ]
  },
  {
   "cell_type": "code",
   "execution_count": 41,
   "id": "27b20742-a64c-4f77-b128-c6f17525365c",
   "metadata": {},
   "outputs": [
    {
     "name": "stdout",
     "output_type": "stream",
     "text": [
      "True\n"
     ]
    }
   ],
   "source": [
    "a=\"09876\"\n",
    "b= lambda x:True if x.isnumeric() else False\n",
    "print(b(a))"
   ]
  },
  {
   "cell_type": "markdown",
   "id": "bb2b42a9-d378-427f-9239-1421e7dd3b93",
   "metadata": {},
   "source": [
    "Sort a list of tuples having fruit names and their quantity. [(\"mango\",99),(\"orange\",80), (\"grapes\", 1000)]"
   ]
  },
  {
   "cell_type": "code",
   "execution_count": 48,
   "id": "0e16314e-08b8-4f9d-9204-30254101d37a",
   "metadata": {},
   "outputs": [
    {
     "name": "stdout",
     "output_type": "stream",
     "text": [
      "[('orange', 80), ('mango', 99), ('grapes', 1000)]\n"
     ]
    }
   ],
   "source": [
    "a=[(\"mango\",99),(\"orange\",80), (\"grapes\", 1000)]\n",
    "a.sort(key=lambda x:x[1])\n",
    "print (a)"
   ]
  },
  {
   "cell_type": "markdown",
   "id": "704b1cb8-55c2-49ac-8c8e-75bf5227710e",
   "metadata": {},
   "source": [
    "Find the squares of numbers from 1 to 10"
   ]
  },
  {
   "cell_type": "code",
   "execution_count": 143,
   "id": "ea5f42a3-b955-404b-8d31-1f76e73821fe",
   "metadata": {},
   "outputs": [],
   "source": [
    "\n",
    "b=lambda x: (i**2 for i in range (1,x))"
   ]
  },
  {
   "cell_type": "code",
   "execution_count": 144,
   "id": "f29c96d7-80c2-4546-a0bf-c53b862de51f",
   "metadata": {},
   "outputs": [
    {
     "name": "stdout",
     "output_type": "stream",
     "text": [
      "[1, 4, 9, 16, 25, 36, 49, 64, 81, 100]\n"
     ]
    }
   ],
   "source": [
    "a=list(b(11))\n",
    "print(a)"
   ]
  },
  {
   "cell_type": "markdown",
   "id": "213877fd-d9be-4e69-8963-630bde9a9bcb",
   "metadata": {},
   "source": [
    "Find the cube root of numbers from 1 to 10"
   ]
  },
  {
   "cell_type": "code",
   "execution_count": 136,
   "id": "ac31ec7b-8a5c-40c6-a8f1-22f967ba9f5a",
   "metadata": {},
   "outputs": [],
   "source": [
    "b=(lambda x: (i**3 for i in range (1,x)))"
   ]
  },
  {
   "cell_type": "code",
   "execution_count": 141,
   "id": "3c07a8de-3e7f-4756-bb64-7b7021c7dfc7",
   "metadata": {},
   "outputs": [
    {
     "name": "stdout",
     "output_type": "stream",
     "text": [
      "[1, 8, 27, 64, 125, 216, 343, 512, 729, 1000]\n"
     ]
    }
   ],
   "source": [
    "c=list(b(11))\n",
    "print(c)"
   ]
  },
  {
   "cell_type": "markdown",
   "id": "433cdf82-d701-4f2a-ad35-d8972f10716f",
   "metadata": {},
   "source": [
    "Check if a given number is even"
   ]
  },
  {
   "cell_type": "code",
   "execution_count": 120,
   "id": "2f1ba007-2b7d-4006-8a42-c58d6d8e8c63",
   "metadata": {},
   "outputs": [
    {
     "name": "stdin",
     "output_type": "stream",
     "text": [
      " 90\n"
     ]
    },
    {
     "data": {
      "text/plain": [
       "'Even Number'"
      ]
     },
     "execution_count": 120,
     "metadata": {},
     "output_type": "execute_result"
    }
   ],
   "source": [
    "a=int(input())\n",
    "b=lambda number: \"Even Number\" if number % 2 == 0 else \"Odd Number\"\n",
    "b(a)"
   ]
  },
  {
   "cell_type": "markdown",
   "id": "b5d584ed-1810-4482-b0e7-aa0fb2e027c2",
   "metadata": {},
   "source": [
    "Filter odd numbers from the given list.\n",
    "[1,2,3,4,5,6,7,8,9,10]"
   ]
  },
  {
   "cell_type": "code",
   "execution_count": 134,
   "id": "02b4b8e6-5420-428d-acb8-77aae96f8825",
   "metadata": {},
   "outputs": [
    {
     "data": {
      "text/plain": [
       "[1, 3, 5, 7, 9]"
      ]
     },
     "execution_count": 134,
     "metadata": {},
     "output_type": "execute_result"
    }
   ],
   "source": [
    "a=[1,2,3,4,5,6,7,8,9,10]\n",
    "list(filter(lambda x: x%2!=0,a))\n"
   ]
  },
  {
   "cell_type": "markdown",
   "id": "65171457-7819-4f61-a652-95055d8a8b2e",
   "metadata": {},
   "source": [
    "Sort a list of integers into positive and negative integers lists.\n",
    "[1,2,3,4,5,6,-1,-2,-3,-4,-5,0]"
   ]
  },
  {
   "cell_type": "code",
   "execution_count": 165,
   "id": "54ad2a42-43a0-418d-9c81-b69db1535b94",
   "metadata": {},
   "outputs": [
    {
     "data": {
      "text/plain": [
       "[-1, -2, -3, -4, -5]"
      ]
     },
     "execution_count": 165,
     "metadata": {},
     "output_type": "execute_result"
    }
   ],
   "source": [
    "t=[1,2,3,4,5,6,-1,-2,-3,-4,-5,0]\n",
    "list(filter(lambda x: x>=0,t))\n",
    "list(filter(lambda x: x<0,t))"
   ]
  },
  {
   "cell_type": "code",
   "execution_count": null,
   "id": "627ef488-623e-4283-a7a6-1b4c5db4f412",
   "metadata": {},
   "outputs": [],
   "source": []
  }
 ],
 "metadata": {
  "kernelspec": {
   "display_name": "Python 3 (ipykernel)",
   "language": "python",
   "name": "python3"
  },
  "language_info": {
   "codemirror_mode": {
    "name": "ipython",
    "version": 3
   },
   "file_extension": ".py",
   "mimetype": "text/x-python",
   "name": "python",
   "nbconvert_exporter": "python",
   "pygments_lexer": "ipython3",
   "version": "3.10.8"
  }
 },
 "nbformat": 4,
 "nbformat_minor": 5
}
